{
 "cells": [
  {
   "cell_type": "markdown",
   "id": "19566af3-bd79-47fe-9fc1-23b0931e2b38",
   "metadata": {},
   "source": [
    "# Цель лабораторной работы"
   ]
  },
  {
   "cell_type": "markdown",
   "id": "b86121d9-5f7d-4ecd-831a-0334788afda1",
   "metadata": {},
   "source": [
    "Изучение способов предварительной обработки данных для дальнейшего формирования моделей."
   ]
  },
  {
   "cell_type": "markdown",
   "id": "aa22d3a7-cd1d-4102-b44b-8b55924b0d3f",
   "metadata": {},
   "source": [
    "# Задание"
   ]
  },
  {
   "cell_type": "markdown",
   "id": "31ab1b55-de9f-43e7-bde3-f3d511d8b2cb",
   "metadata": {},
   "source": [
    "1. Выбрать набор данных (датасет), содержащий категориальные признаки и пропуски в данных. Для выполнения следующих пунктов можно использовать несколько различных наборов данных (один для обработки пропусков, другой для категориальных признаков и т.д.)\n",
    "2. Для выбранного датасета (датасетов) на основе материалов лекции решить следующие задачи:\n",
    "    * обработку пропусков в данных;\n",
    "    * кодирование категориальных признаков;\n",
    "    * масштабирование данных."
   ]
  },
  {
   "cell_type": "markdown",
   "id": "8897bcc2-4291-463b-a9eb-822b60cb1b88",
   "metadata": {},
   "source": [
    "# Ход выполнения работы"
   ]
  },
  {
   "cell_type": "markdown",
   "id": "63665fcf-d310-43aa-9707-be49cda7d881",
   "metadata": {},
   "source": [
    "## Текстовое описание набора данных"
   ]
  },
  {
   "cell_type": "markdown",
   "id": "056912a3-9949-4c3d-a100-767ba22c379b",
   "metadata": {},
   "source": [
    "В качестве набора данных используется dataset рейтингов университетов мира на основании трёх рейтингов. Датасет доступен по адресу: https://www.kaggle.com/mylesoneill/world-university-rankings\n",
    "\n",
    "Из набора данных будет рассматриваться только файл `cwurData.csv`.\n",
    "\n",
    "Описание столбцов:\n",
    "* `world_rank` - мировой рейтинг университета\n",
    "* `institution` - название университета\n",
    "* `country` - страна, в которой расположен университет\n",
    "* `national_rank` - рейтинг университета в стране его нахождения\n",
    "* `quality_of_education` - рейтинг качества образования\n",
    "* `quality_of_faculty` - рейтинг качества профессорско-преподавательского состава\n",
    "* `publications` - рейтинг публикаций\n",
    "* `infuence` - рейтинг влияния\n",
    "* `citations` - количество студентов в университете\n",
    "* `broad_impact` - рейтинг за широкое влияние (предоставлен только за 2014 и 2015 гг. Остальное - пропуски)\n",
    "* `patents` - рейтинг за патенты\n",
    "* `score` - общий балл, используемый для определения мирового рейтинга\n",
    "* `year` - год рейтинга (с 2012 по 2015 год)"
   ]
  },
  {
   "cell_type": "markdown",
   "id": "65ae4180-2c8c-44f1-a755-6a591f92b835",
   "metadata": {},
   "source": [
    "## Основные характеристики набора данных"
   ]
  },
  {
   "cell_type": "markdown",
   "id": "16192e17-2533-4082-9efe-d6936bf13867",
   "metadata": {},
   "source": [
    "Подключаем все необходимые библиотеки"
   ]
  },
  {
   "cell_type": "code",
   "execution_count": 1,
   "id": "d4c718b3-72fa-4656-b3f4-946292e8672b",
   "metadata": {},
   "outputs": [],
   "source": [
    "import numpy as np\n",
    "import pandas as pd\n",
    "import seaborn as sns\n",
    "import matplotlib\n",
    "import matplotlib_inline\n",
    "import matplotlib.pyplot as plt\n",
    "%matplotlib inline \n",
    "sns.set(style=\"ticks\")"
   ]
  },
  {
   "cell_type": "markdown",
   "id": "c4cf756d-a780-4047-861a-1a57861b2cea",
   "metadata": {},
   "source": [
    "Подключаем Dataset"
   ]
  },
  {
   "cell_type": "code",
   "execution_count": 2,
   "id": "361a021c-17e2-4d1b-b226-db4c1dd0d1fb",
   "metadata": {},
   "outputs": [],
   "source": [
    "data = pd.read_csv('cwurData.csv', sep=\",\")"
   ]
  },
  {
   "cell_type": "markdown",
   "id": "c1ee8349-1728-456b-9328-fa2aff268ad6",
   "metadata": {},
   "source": [
    "Размер набора данных"
   ]
  },
  {
   "cell_type": "code",
   "execution_count": 3,
   "id": "d1719a4d-de06-408f-ad56-22aa0b619083",
   "metadata": {},
   "outputs": [
    {
     "data": {
      "text/plain": [
       "(2200, 14)"
      ]
     },
     "execution_count": 3,
     "metadata": {},
     "output_type": "execute_result"
    }
   ],
   "source": [
    "data.shape"
   ]
  },
  {
   "cell_type": "markdown",
   "id": "80dc25bc-3805-4f7c-b76c-34357eafd684",
   "metadata": {},
   "source": [
    "Типы колонок"
   ]
  },
  {
   "cell_type": "code",
   "execution_count": 4,
   "id": "04a15934-424c-4bfb-97aa-9abf9215b01d",
   "metadata": {},
   "outputs": [
    {
     "data": {
      "text/plain": [
       "world_rank                int64\n",
       "institution              object\n",
       "country                  object\n",
       "national_rank             int64\n",
       "quality_of_education      int64\n",
       "alumni_employment         int64\n",
       "quality_of_faculty        int64\n",
       "publications              int64\n",
       "influence                 int64\n",
       "citations                 int64\n",
       "broad_impact            float64\n",
       "patents                   int64\n",
       "score                   float64\n",
       "year                      int64\n",
       "dtype: object"
      ]
     },
     "execution_count": 4,
     "metadata": {},
     "output_type": "execute_result"
    }
   ],
   "source": [
    "data.dtypes"
   ]
  },
  {
   "cell_type": "markdown",
   "id": "d4aefa38-31a0-4c24-84db-9cdc431ca06e",
   "metadata": {},
   "source": [
    "Проверяем, есть ли пропущенные значения"
   ]
  },
  {
   "cell_type": "code",
   "execution_count": 5,
   "id": "0f1baacd-767a-40be-9ffa-dc7c213c9fc4",
   "metadata": {},
   "outputs": [
    {
     "data": {
      "text/plain": [
       "world_rank                0\n",
       "institution               0\n",
       "country                   0\n",
       "national_rank             0\n",
       "quality_of_education      0\n",
       "alumni_employment         0\n",
       "quality_of_faculty        0\n",
       "publications              0\n",
       "influence                 0\n",
       "citations                 0\n",
       "broad_impact            200\n",
       "patents                   0\n",
       "score                     0\n",
       "year                      0\n",
       "dtype: int64"
      ]
     },
     "execution_count": 5,
     "metadata": {},
     "output_type": "execute_result"
    }
   ],
   "source": [
    "data.isnull().sum()"
   ]
  },
  {
   "cell_type": "markdown",
   "id": "af314210-8c8a-4663-9e6a-3d1d01f7633e",
   "metadata": {},
   "source": [
    "Первые 5 строк датасета"
   ]
  },
  {
   "cell_type": "code",
   "execution_count": 6,
   "id": "716e8dc6-2f52-44e8-a8aa-6101ded29120",
   "metadata": {},
   "outputs": [
    {
     "data": {
      "text/html": [
       "<div>\n",
       "<style scoped>\n",
       "    .dataframe tbody tr th:only-of-type {\n",
       "        vertical-align: middle;\n",
       "    }\n",
       "\n",
       "    .dataframe tbody tr th {\n",
       "        vertical-align: top;\n",
       "    }\n",
       "\n",
       "    .dataframe thead th {\n",
       "        text-align: right;\n",
       "    }\n",
       "</style>\n",
       "<table border=\"1\" class=\"dataframe\">\n",
       "  <thead>\n",
       "    <tr style=\"text-align: right;\">\n",
       "      <th></th>\n",
       "      <th>world_rank</th>\n",
       "      <th>institution</th>\n",
       "      <th>country</th>\n",
       "      <th>national_rank</th>\n",
       "      <th>quality_of_education</th>\n",
       "      <th>alumni_employment</th>\n",
       "      <th>quality_of_faculty</th>\n",
       "      <th>publications</th>\n",
       "      <th>influence</th>\n",
       "      <th>citations</th>\n",
       "      <th>broad_impact</th>\n",
       "      <th>patents</th>\n",
       "      <th>score</th>\n",
       "      <th>year</th>\n",
       "    </tr>\n",
       "  </thead>\n",
       "  <tbody>\n",
       "    <tr>\n",
       "      <th>0</th>\n",
       "      <td>1</td>\n",
       "      <td>Harvard University</td>\n",
       "      <td>USA</td>\n",
       "      <td>1</td>\n",
       "      <td>7</td>\n",
       "      <td>9</td>\n",
       "      <td>1</td>\n",
       "      <td>1</td>\n",
       "      <td>1</td>\n",
       "      <td>1</td>\n",
       "      <td>NaN</td>\n",
       "      <td>5</td>\n",
       "      <td>100.00</td>\n",
       "      <td>2012</td>\n",
       "    </tr>\n",
       "    <tr>\n",
       "      <th>1</th>\n",
       "      <td>2</td>\n",
       "      <td>Massachusetts Institute of Technology</td>\n",
       "      <td>USA</td>\n",
       "      <td>2</td>\n",
       "      <td>9</td>\n",
       "      <td>17</td>\n",
       "      <td>3</td>\n",
       "      <td>12</td>\n",
       "      <td>4</td>\n",
       "      <td>4</td>\n",
       "      <td>NaN</td>\n",
       "      <td>1</td>\n",
       "      <td>91.67</td>\n",
       "      <td>2012</td>\n",
       "    </tr>\n",
       "    <tr>\n",
       "      <th>2</th>\n",
       "      <td>3</td>\n",
       "      <td>Stanford University</td>\n",
       "      <td>USA</td>\n",
       "      <td>3</td>\n",
       "      <td>17</td>\n",
       "      <td>11</td>\n",
       "      <td>5</td>\n",
       "      <td>4</td>\n",
       "      <td>2</td>\n",
       "      <td>2</td>\n",
       "      <td>NaN</td>\n",
       "      <td>15</td>\n",
       "      <td>89.50</td>\n",
       "      <td>2012</td>\n",
       "    </tr>\n",
       "    <tr>\n",
       "      <th>3</th>\n",
       "      <td>4</td>\n",
       "      <td>University of Cambridge</td>\n",
       "      <td>United Kingdom</td>\n",
       "      <td>1</td>\n",
       "      <td>10</td>\n",
       "      <td>24</td>\n",
       "      <td>4</td>\n",
       "      <td>16</td>\n",
       "      <td>16</td>\n",
       "      <td>11</td>\n",
       "      <td>NaN</td>\n",
       "      <td>50</td>\n",
       "      <td>86.17</td>\n",
       "      <td>2012</td>\n",
       "    </tr>\n",
       "    <tr>\n",
       "      <th>4</th>\n",
       "      <td>5</td>\n",
       "      <td>California Institute of Technology</td>\n",
       "      <td>USA</td>\n",
       "      <td>4</td>\n",
       "      <td>2</td>\n",
       "      <td>29</td>\n",
       "      <td>7</td>\n",
       "      <td>37</td>\n",
       "      <td>22</td>\n",
       "      <td>22</td>\n",
       "      <td>NaN</td>\n",
       "      <td>18</td>\n",
       "      <td>85.21</td>\n",
       "      <td>2012</td>\n",
       "    </tr>\n",
       "  </tbody>\n",
       "</table>\n",
       "</div>"
      ],
      "text/plain": [
       "   world_rank                            institution         country  \\\n",
       "0           1                     Harvard University             USA   \n",
       "1           2  Massachusetts Institute of Technology             USA   \n",
       "2           3                    Stanford University             USA   \n",
       "3           4                University of Cambridge  United Kingdom   \n",
       "4           5     California Institute of Technology             USA   \n",
       "\n",
       "   national_rank  quality_of_education  alumni_employment  quality_of_faculty  \\\n",
       "0              1                     7                  9                   1   \n",
       "1              2                     9                 17                   3   \n",
       "2              3                    17                 11                   5   \n",
       "3              1                    10                 24                   4   \n",
       "4              4                     2                 29                   7   \n",
       "\n",
       "   publications  influence  citations  broad_impact  patents   score  year  \n",
       "0             1          1          1           NaN        5  100.00  2012  \n",
       "1            12          4          4           NaN        1   91.67  2012  \n",
       "2             4          2          2           NaN       15   89.50  2012  \n",
       "3            16         16         11           NaN       50   86.17  2012  \n",
       "4            37         22         22           NaN       18   85.21  2012  "
      ]
     },
     "execution_count": 6,
     "metadata": {},
     "output_type": "execute_result"
    }
   ],
   "source": [
    "data.head()"
   ]
  },
  {
   "cell_type": "code",
   "execution_count": 7,
   "id": "552b7978-e52c-4404-ad13-bc18c8baa3bc",
   "metadata": {},
   "outputs": [
    {
     "name": "stdout",
     "output_type": "stream",
     "text": [
      "Всего строк: 2200\n"
     ]
    }
   ],
   "source": [
    "total_count = data.shape[0]\n",
    "print('Всего строк: {}'.format(total_count))"
   ]
  },
  {
   "cell_type": "markdown",
   "id": "a9b6f8c1-0a2e-486b-9980-2c248be81ad4",
   "metadata": {},
   "source": [
    "Процент пропусков в `broad_impact`"
   ]
  },
  {
   "cell_type": "code",
   "execution_count": 8,
   "id": "491401c5-379f-4b39-b629-6f94b8b5157f",
   "metadata": {},
   "outputs": [
    {
     "data": {
      "text/plain": [
       "9.090909090909092"
      ]
     },
     "execution_count": 8,
     "metadata": {},
     "output_type": "execute_result"
    }
   ],
   "source": [
    "(200 / 2200) * 100"
   ]
  },
  {
   "cell_type": "markdown",
   "id": "caf0ed51-a6c9-4b0f-89ca-d1960e8d2a37",
   "metadata": {},
   "source": [
    "Настройка отображения графиков"
   ]
  },
  {
   "cell_type": "code",
   "execution_count": 9,
   "id": "ee774060-3ca1-4aea-8371-e20aea501e8b",
   "metadata": {},
   "outputs": [],
   "source": [
    "# Задание формата графиков для сохранения высокого качества PNG\n",
    "from IPython.display import set_matplotlib_formats\n",
    "matplotlib_inline.backend_inline.set_matplotlib_formats(\"retina\")\n",
    "# Задание ширины графиков, чтобы они помещались на A4"
   ]
  },
  {
   "cell_type": "markdown",
   "id": "9965a31d-a115-4c3a-ac9f-14d6fa4386b9",
   "metadata": {},
   "source": [
    "## Обработка пропусков данных"
   ]
  },
  {
   "cell_type": "markdown",
   "id": "8cf68528-97a2-43b5-b97b-eb94b4af810d",
   "metadata": {},
   "source": [
    "### Очистка строк"
   ]
  },
  {
   "cell_type": "markdown",
   "id": "889360c8-bf20-4d98-9354-63e55008d097",
   "metadata": {},
   "source": [
    "Можно очистить строки, содержащие пропуски. При этом останутся данные только за 2014 и 2015 гг (см. описание датасета)"
   ]
  },
  {
   "cell_type": "code",
   "execution_count": 10,
   "id": "c8670a23-10b1-40ea-8dd3-c35965f23414",
   "metadata": {},
   "outputs": [
    {
     "data": {
      "text/plain": [
       "((2200, 14), (2000, 14))"
      ]
     },
     "execution_count": 10,
     "metadata": {},
     "output_type": "execute_result"
    }
   ],
   "source": [
    "# Удаление строк, содержащих пустые значения\n",
    "data_no_null = data.dropna(axis=0, how='any')\n",
    "(data.shape, data_no_null.shape)"
   ]
  },
  {
   "cell_type": "markdown",
   "id": "b58d6c66-d212-4503-b5a0-382f94993235",
   "metadata": {},
   "source": [
    "Выведем первые 11 строк, чтобы убедиться, что данные в `national_rank` числовые (Jupyter Lab в предпросмотре CSV показывает не совсем верно)"
   ]
  },
  {
   "cell_type": "code",
   "execution_count": 11,
   "id": "7f9bd7f3-a16c-4d43-8154-80b59d83c72c",
   "metadata": {},
   "outputs": [
    {
     "data": {
      "text/html": [
       "<div>\n",
       "<style scoped>\n",
       "    .dataframe tbody tr th:only-of-type {\n",
       "        vertical-align: middle;\n",
       "    }\n",
       "\n",
       "    .dataframe tbody tr th {\n",
       "        vertical-align: top;\n",
       "    }\n",
       "\n",
       "    .dataframe thead th {\n",
       "        text-align: right;\n",
       "    }\n",
       "</style>\n",
       "<table border=\"1\" class=\"dataframe\">\n",
       "  <thead>\n",
       "    <tr style=\"text-align: right;\">\n",
       "      <th></th>\n",
       "      <th>world_rank</th>\n",
       "      <th>institution</th>\n",
       "      <th>country</th>\n",
       "      <th>national_rank</th>\n",
       "      <th>quality_of_education</th>\n",
       "      <th>alumni_employment</th>\n",
       "      <th>quality_of_faculty</th>\n",
       "      <th>publications</th>\n",
       "      <th>influence</th>\n",
       "      <th>citations</th>\n",
       "      <th>broad_impact</th>\n",
       "      <th>patents</th>\n",
       "      <th>score</th>\n",
       "      <th>year</th>\n",
       "    </tr>\n",
       "  </thead>\n",
       "  <tbody>\n",
       "    <tr>\n",
       "      <th>200</th>\n",
       "      <td>1</td>\n",
       "      <td>Harvard University</td>\n",
       "      <td>USA</td>\n",
       "      <td>1</td>\n",
       "      <td>1</td>\n",
       "      <td>1</td>\n",
       "      <td>1</td>\n",
       "      <td>1</td>\n",
       "      <td>1</td>\n",
       "      <td>1</td>\n",
       "      <td>1.0</td>\n",
       "      <td>2</td>\n",
       "      <td>100.00</td>\n",
       "      <td>2014</td>\n",
       "    </tr>\n",
       "    <tr>\n",
       "      <th>201</th>\n",
       "      <td>2</td>\n",
       "      <td>Stanford University</td>\n",
       "      <td>USA</td>\n",
       "      <td>2</td>\n",
       "      <td>11</td>\n",
       "      <td>2</td>\n",
       "      <td>4</td>\n",
       "      <td>5</td>\n",
       "      <td>3</td>\n",
       "      <td>3</td>\n",
       "      <td>4.0</td>\n",
       "      <td>6</td>\n",
       "      <td>99.09</td>\n",
       "      <td>2014</td>\n",
       "    </tr>\n",
       "    <tr>\n",
       "      <th>202</th>\n",
       "      <td>3</td>\n",
       "      <td>Massachusetts Institute of Technology</td>\n",
       "      <td>USA</td>\n",
       "      <td>3</td>\n",
       "      <td>3</td>\n",
       "      <td>11</td>\n",
       "      <td>2</td>\n",
       "      <td>15</td>\n",
       "      <td>2</td>\n",
       "      <td>2</td>\n",
       "      <td>2.0</td>\n",
       "      <td>1</td>\n",
       "      <td>98.69</td>\n",
       "      <td>2014</td>\n",
       "    </tr>\n",
       "    <tr>\n",
       "      <th>203</th>\n",
       "      <td>4</td>\n",
       "      <td>University of Cambridge</td>\n",
       "      <td>United Kingdom</td>\n",
       "      <td>1</td>\n",
       "      <td>2</td>\n",
       "      <td>10</td>\n",
       "      <td>5</td>\n",
       "      <td>10</td>\n",
       "      <td>9</td>\n",
       "      <td>12</td>\n",
       "      <td>13.0</td>\n",
       "      <td>48</td>\n",
       "      <td>97.64</td>\n",
       "      <td>2014</td>\n",
       "    </tr>\n",
       "    <tr>\n",
       "      <th>204</th>\n",
       "      <td>5</td>\n",
       "      <td>University of Oxford</td>\n",
       "      <td>United Kingdom</td>\n",
       "      <td>2</td>\n",
       "      <td>7</td>\n",
       "      <td>12</td>\n",
       "      <td>10</td>\n",
       "      <td>11</td>\n",
       "      <td>12</td>\n",
       "      <td>11</td>\n",
       "      <td>12.0</td>\n",
       "      <td>16</td>\n",
       "      <td>97.51</td>\n",
       "      <td>2014</td>\n",
       "    </tr>\n",
       "    <tr>\n",
       "      <th>205</th>\n",
       "      <td>6</td>\n",
       "      <td>Columbia University</td>\n",
       "      <td>USA</td>\n",
       "      <td>4</td>\n",
       "      <td>13</td>\n",
       "      <td>8</td>\n",
       "      <td>9</td>\n",
       "      <td>14</td>\n",
       "      <td>13</td>\n",
       "      <td>9</td>\n",
       "      <td>13.0</td>\n",
       "      <td>4</td>\n",
       "      <td>97.41</td>\n",
       "      <td>2014</td>\n",
       "    </tr>\n",
       "    <tr>\n",
       "      <th>206</th>\n",
       "      <td>7</td>\n",
       "      <td>University of California, Berkeley</td>\n",
       "      <td>USA</td>\n",
       "      <td>5</td>\n",
       "      <td>4</td>\n",
       "      <td>22</td>\n",
       "      <td>6</td>\n",
       "      <td>7</td>\n",
       "      <td>4</td>\n",
       "      <td>3</td>\n",
       "      <td>7.0</td>\n",
       "      <td>28</td>\n",
       "      <td>92.84</td>\n",
       "      <td>2014</td>\n",
       "    </tr>\n",
       "    <tr>\n",
       "      <th>207</th>\n",
       "      <td>8</td>\n",
       "      <td>University of Chicago</td>\n",
       "      <td>USA</td>\n",
       "      <td>6</td>\n",
       "      <td>10</td>\n",
       "      <td>14</td>\n",
       "      <td>8</td>\n",
       "      <td>17</td>\n",
       "      <td>19</td>\n",
       "      <td>10</td>\n",
       "      <td>18.0</td>\n",
       "      <td>149</td>\n",
       "      <td>92.03</td>\n",
       "      <td>2014</td>\n",
       "    </tr>\n",
       "    <tr>\n",
       "      <th>208</th>\n",
       "      <td>9</td>\n",
       "      <td>Princeton University</td>\n",
       "      <td>USA</td>\n",
       "      <td>7</td>\n",
       "      <td>5</td>\n",
       "      <td>16</td>\n",
       "      <td>3</td>\n",
       "      <td>70</td>\n",
       "      <td>25</td>\n",
       "      <td>19</td>\n",
       "      <td>41.0</td>\n",
       "      <td>204</td>\n",
       "      <td>88.56</td>\n",
       "      <td>2014</td>\n",
       "    </tr>\n",
       "    <tr>\n",
       "      <th>209</th>\n",
       "      <td>10</td>\n",
       "      <td>Yale University</td>\n",
       "      <td>USA</td>\n",
       "      <td>8</td>\n",
       "      <td>9</td>\n",
       "      <td>25</td>\n",
       "      <td>11</td>\n",
       "      <td>18</td>\n",
       "      <td>7</td>\n",
       "      <td>32</td>\n",
       "      <td>19.0</td>\n",
       "      <td>45</td>\n",
       "      <td>88.11</td>\n",
       "      <td>2014</td>\n",
       "    </tr>\n",
       "    <tr>\n",
       "      <th>210</th>\n",
       "      <td>11</td>\n",
       "      <td>Cornell University</td>\n",
       "      <td>USA</td>\n",
       "      <td>9</td>\n",
       "      <td>12</td>\n",
       "      <td>18</td>\n",
       "      <td>19</td>\n",
       "      <td>23</td>\n",
       "      <td>15</td>\n",
       "      <td>23</td>\n",
       "      <td>23.0</td>\n",
       "      <td>12</td>\n",
       "      <td>85.80</td>\n",
       "      <td>2014</td>\n",
       "    </tr>\n",
       "  </tbody>\n",
       "</table>\n",
       "</div>"
      ],
      "text/plain": [
       "     world_rank                            institution         country  \\\n",
       "200           1                     Harvard University             USA   \n",
       "201           2                    Stanford University             USA   \n",
       "202           3  Massachusetts Institute of Technology             USA   \n",
       "203           4                University of Cambridge  United Kingdom   \n",
       "204           5                   University of Oxford  United Kingdom   \n",
       "205           6                    Columbia University             USA   \n",
       "206           7     University of California, Berkeley             USA   \n",
       "207           8                  University of Chicago             USA   \n",
       "208           9                   Princeton University             USA   \n",
       "209          10                        Yale University             USA   \n",
       "210          11                     Cornell University             USA   \n",
       "\n",
       "     national_rank  quality_of_education  alumni_employment  \\\n",
       "200              1                     1                  1   \n",
       "201              2                    11                  2   \n",
       "202              3                     3                 11   \n",
       "203              1                     2                 10   \n",
       "204              2                     7                 12   \n",
       "205              4                    13                  8   \n",
       "206              5                     4                 22   \n",
       "207              6                    10                 14   \n",
       "208              7                     5                 16   \n",
       "209              8                     9                 25   \n",
       "210              9                    12                 18   \n",
       "\n",
       "     quality_of_faculty  publications  influence  citations  broad_impact  \\\n",
       "200                   1             1          1          1           1.0   \n",
       "201                   4             5          3          3           4.0   \n",
       "202                   2            15          2          2           2.0   \n",
       "203                   5            10          9         12          13.0   \n",
       "204                  10            11         12         11          12.0   \n",
       "205                   9            14         13          9          13.0   \n",
       "206                   6             7          4          3           7.0   \n",
       "207                   8            17         19         10          18.0   \n",
       "208                   3            70         25         19          41.0   \n",
       "209                  11            18          7         32          19.0   \n",
       "210                  19            23         15         23          23.0   \n",
       "\n",
       "     patents   score  year  \n",
       "200        2  100.00  2014  \n",
       "201        6   99.09  2014  \n",
       "202        1   98.69  2014  \n",
       "203       48   97.64  2014  \n",
       "204       16   97.51  2014  \n",
       "205        4   97.41  2014  \n",
       "206       28   92.84  2014  \n",
       "207      149   92.03  2014  \n",
       "208      204   88.56  2014  \n",
       "209       45   88.11  2014  \n",
       "210       12   85.80  2014  "
      ]
     },
     "execution_count": 11,
     "metadata": {},
     "output_type": "execute_result"
    }
   ],
   "source": [
    "data_no_null.head(11)"
   ]
  },
  {
   "cell_type": "code",
   "execution_count": 12,
   "id": "f6b11ec2-d0d9-4f4d-98a6-8c6bdf4be075",
   "metadata": {},
   "outputs": [
    {
     "name": "stdout",
     "output_type": "stream",
     "text": [
      "Всего строк: 2000\n"
     ]
    }
   ],
   "source": [
    "total_count = data_no_null.shape[0]\n",
    "print('Всего строк: {}'.format(total_count))"
   ]
  },
  {
   "cell_type": "markdown",
   "id": "0e000bcc-8654-48dd-9e32-2bd3006411b6",
   "metadata": {},
   "source": [
    "### Внедрение значений"
   ]
  },
  {
   "cell_type": "code",
   "execution_count": 13,
   "id": "36277890-72ce-46d2-80c9-7b443b5adde6",
   "metadata": {},
   "outputs": [
    {
     "name": "stdout",
     "output_type": "stream",
     "text": [
      "Колонка broad_impact. Тип данных float64. Количество пустых значений 200, 10.0%.\n"
     ]
    }
   ],
   "source": [
    "# Выберем числовые колонки с пропущенными значениями\n",
    "# Цикл по колонкам датасета\n",
    "num_cols = []\n",
    "for col in data.columns:\n",
    "    # Количество пустых значений \n",
    "    temp_null_count = data[data[col].isnull()].shape[0]\n",
    "    dt = str(data[col].dtype)\n",
    "    if temp_null_count>0 and (dt=='float64' or dt=='int64'):\n",
    "        num_cols.append(col)\n",
    "        temp_perc = round((temp_null_count / total_count) * 100.0, 2)\n",
    "        print('Колонка {}. Тип данных {}. Количество пустых значений {}, {}%.'.format(col, dt, temp_null_count, temp_perc))"
   ]
  },
  {
   "cell_type": "code",
   "execution_count": 33,
   "id": "ca0b4f0e-4c22-45d0-b62b-068d30bbc3b1",
   "metadata": {},
   "outputs": [
    {
     "data": {
      "text/html": [
       "<div>\n",
       "<style scoped>\n",
       "    .dataframe tbody tr th:only-of-type {\n",
       "        vertical-align: middle;\n",
       "    }\n",
       "\n",
       "    .dataframe tbody tr th {\n",
       "        vertical-align: top;\n",
       "    }\n",
       "\n",
       "    .dataframe thead th {\n",
       "        text-align: right;\n",
       "    }\n",
       "</style>\n",
       "<table border=\"1\" class=\"dataframe\">\n",
       "  <thead>\n",
       "    <tr style=\"text-align: right;\">\n",
       "      <th></th>\n",
       "      <th>broad_impact</th>\n",
       "    </tr>\n",
       "  </thead>\n",
       "  <tbody>\n",
       "    <tr>\n",
       "      <th>0</th>\n",
       "      <td>NaN</td>\n",
       "    </tr>\n",
       "    <tr>\n",
       "      <th>1</th>\n",
       "      <td>NaN</td>\n",
       "    </tr>\n",
       "    <tr>\n",
       "      <th>2</th>\n",
       "      <td>NaN</td>\n",
       "    </tr>\n",
       "    <tr>\n",
       "      <th>3</th>\n",
       "      <td>NaN</td>\n",
       "    </tr>\n",
       "    <tr>\n",
       "      <th>4</th>\n",
       "      <td>NaN</td>\n",
       "    </tr>\n",
       "    <tr>\n",
       "      <th>...</th>\n",
       "      <td>...</td>\n",
       "    </tr>\n",
       "    <tr>\n",
       "      <th>2195</th>\n",
       "      <td>969.0</td>\n",
       "    </tr>\n",
       "    <tr>\n",
       "      <th>2196</th>\n",
       "      <td>981.0</td>\n",
       "    </tr>\n",
       "    <tr>\n",
       "      <th>2197</th>\n",
       "      <td>975.0</td>\n",
       "    </tr>\n",
       "    <tr>\n",
       "      <th>2198</th>\n",
       "      <td>975.0</td>\n",
       "    </tr>\n",
       "    <tr>\n",
       "      <th>2199</th>\n",
       "      <td>981.0</td>\n",
       "    </tr>\n",
       "  </tbody>\n",
       "</table>\n",
       "<p>2200 rows × 1 columns</p>\n",
       "</div>"
      ],
      "text/plain": [
       "      broad_impact\n",
       "0              NaN\n",
       "1              NaN\n",
       "2              NaN\n",
       "3              NaN\n",
       "4              NaN\n",
       "...            ...\n",
       "2195         969.0\n",
       "2196         981.0\n",
       "2197         975.0\n",
       "2198         975.0\n",
       "2199         981.0\n",
       "\n",
       "[2200 rows x 1 columns]"
      ]
     },
     "execution_count": 33,
     "metadata": {},
     "output_type": "execute_result"
    }
   ],
   "source": [
    "# Фильтр по колонкам с пропущенными значениями\n",
    "data_num = data[num_cols]\n",
    "data_num"
   ]
  },
  {
   "cell_type": "code",
   "execution_count": 34,
   "id": "d620ee16-fae0-450d-b817-b805131485e0",
   "metadata": {},
   "outputs": [
    {
     "data": {
      "image/png": "[encoded data removed]",
      "text/plain": [
       "<Figure size 432x288 with 1 Axes>"
      ]
     },
     "metadata": {
      "image/png": {
       "height": 267,
       "width": 372
      }
     },
     "output_type": "display_data"
    }
   ],
   "source": [
    "# Гистограмма по признакам\n",
    "for col in data_num:\n",
    "    plt.hist(data[col], 50)\n",
    "    plt.xlabel(col)\n",
    "    plt.show()"
   ]
  },
  {
   "cell_type": "markdown",
   "id": "0036d05f-3b30-4357-9f87-f046e4cd356b",
   "metadata": {},
   "source": [
    "Будем использовать встроенные средства импьютации библиотеки scikit-learn - https://scikit-learn.org/stable/modules/impute.html"
   ]
  },
  {
   "cell_type": "code",
   "execution_count": 35,
   "id": "ffc92f22-ae7f-4864-b7a9-58bf63adc491",
   "metadata": {},
   "outputs": [
    {
     "data": {
      "text/html": [
       "<div>\n",
       "<style scoped>\n",
       "    .dataframe tbody tr th:only-of-type {\n",
       "        vertical-align: middle;\n",
       "    }\n",
       "\n",
       "    .dataframe tbody tr th {\n",
       "        vertical-align: top;\n",
       "    }\n",
       "\n",
       "    .dataframe thead th {\n",
       "        text-align: right;\n",
       "    }\n",
       "</style>\n",
       "<table border=\"1\" class=\"dataframe\">\n",
       "  <thead>\n",
       "    <tr style=\"text-align: right;\">\n",
       "      <th></th>\n",
       "      <th>broad_impact</th>\n",
       "    </tr>\n",
       "  </thead>\n",
       "  <tbody>\n",
       "    <tr>\n",
       "      <th>0</th>\n",
       "      <td>NaN</td>\n",
       "    </tr>\n",
       "    <tr>\n",
       "      <th>1</th>\n",
       "      <td>NaN</td>\n",
       "    </tr>\n",
       "    <tr>\n",
       "      <th>2</th>\n",
       "      <td>NaN</td>\n",
       "    </tr>\n",
       "    <tr>\n",
       "      <th>3</th>\n",
       "      <td>NaN</td>\n",
       "    </tr>\n",
       "    <tr>\n",
       "      <th>4</th>\n",
       "      <td>NaN</td>\n",
       "    </tr>\n",
       "  </tbody>\n",
       "</table>\n",
       "</div>"
      ],
      "text/plain": [
       "   broad_impact\n",
       "0           NaN\n",
       "1           NaN\n",
       "2           NaN\n",
       "3           NaN\n",
       "4           NaN"
      ]
     },
     "execution_count": 35,
     "metadata": {},
     "output_type": "execute_result"
    }
   ],
   "source": [
    "data_num_MasVnrArea = data_num[['broad_impact']]\n",
    "data_num_MasVnrArea.head()"
   ]
  },
  {
   "cell_type": "code",
   "execution_count": 36,
   "id": "2ad739f1-72b1-4777-b154-939d87e883c9",
   "metadata": {},
   "outputs": [],
   "source": [
    "from sklearn.impute import SimpleImputer\n",
    "from sklearn.impute import MissingIndicator"
   ]
  },
  {
   "cell_type": "code",
   "execution_count": 37,
   "id": "7e7c48be-9720-4fcf-a9f7-3cc7803a289c",
   "metadata": {},
   "outputs": [
    {
     "data": {
      "text/plain": [
       "array([[ True],\n",
       "       [ True],\n",
       "       [ True],\n",
       "       ...,\n",
       "       [False],\n",
       "       [False],\n",
       "       [False]])"
      ]
     },
     "execution_count": 37,
     "metadata": {},
     "output_type": "execute_result"
    }
   ],
   "source": [
    "# Фильтр для проверки заполнения пустых значений\n",
    "indicator = MissingIndicator()\n",
    "mask_missing_values_only = indicator.fit_transform(data_num_MasVnrArea)\n",
    "mask_missing_values_only"
   ]
  },
  {
   "cell_type": "markdown",
   "id": "04d198f7-0d87-4df9-b5f4-562e43b748c7",
   "metadata": {},
   "source": [
    "С помощью класса [SimpleImputer](https://scikit-learn.org/stable/modules/generated/sklearn.impute.SimpleImputer.html#sklearn.impute.SimpleImputer) проверим импьютацию различными [показателями центра распределения](https://ru.wikipedia.org/wiki/%D0%9F%D0%BE%D0%BA%D0%B0%D0%B7%D0%B0%D1%82%D0%B5%D0%BB%D0%B8_%D1%86%D0%B5%D0%BD%D1%82%D1%80%D0%B0_%D1%80%D0%B0%D1%81%D0%BF%D1%80%D0%B5%D0%B4%D0%B5%D0%BB%D0%B5%D0%BD%D0%B8%D1%8F)"
   ]
  },
  {
   "cell_type": "code",
   "execution_count": 38,
   "id": "90503537-6ec7-44a3-a437-f1242868865e",
   "metadata": {},
   "outputs": [],
   "source": [
    "strategies=['mean', 'median', 'most_frequent']"
   ]
  },
  {
   "cell_type": "code",
   "execution_count": 39,
   "id": "c28694c6-ca45-4d56-89a9-0213d1e55284",
   "metadata": {},
   "outputs": [],
   "source": [
    "def test_num_impute(strategy_param):\n",
    "    imp_num = SimpleImputer(strategy=strategy_param)\n",
    "    data_num_imp = imp_num.fit_transform(data_num_MasVnrArea)\n",
    "    return data_num_imp[mask_missing_values_only]"
   ]
  },
  {
   "cell_type": "code",
   "execution_count": 40,
   "id": "d35cc5f2-1098-4c39-951d-a3b859df85e1",
   "metadata": {},
   "outputs": [
    {
     "data": {
      "text/plain": [
       "('mean',\n",
       " array([496.6995, 496.6995, 496.6995, 496.6995, 496.6995, 496.6995,\n",
       "        496.6995, 496.6995, 496.6995, 496.6995, 496.6995, 496.6995,\n",
       "        496.6995, 496.6995, 496.6995, 496.6995, 496.6995, 496.6995,\n",
       "        496.6995, 496.6995, 496.6995, 496.6995, 496.6995, 496.6995,\n",
       "        496.6995, 496.6995, 496.6995, 496.6995, 496.6995, 496.6995,\n",
       "        496.6995, 496.6995, 496.6995, 496.6995, 496.6995, 496.6995,\n",
       "        496.6995, 496.6995, 496.6995, 496.6995, 496.6995, 496.6995,\n",
       "        496.6995, 496.6995, 496.6995, 496.6995, 496.6995, 496.6995,\n",
       "        496.6995, 496.6995, 496.6995, 496.6995, 496.6995, 496.6995,\n",
       "        496.6995, 496.6995, 496.6995, 496.6995, 496.6995, 496.6995,\n",
       "        496.6995, 496.6995, 496.6995, 496.6995, 496.6995, 496.6995,\n",
       "        496.6995, 496.6995, 496.6995, 496.6995, 496.6995, 496.6995,\n",
       "        496.6995, 496.6995, 496.6995, 496.6995, 496.6995, 496.6995,\n",
       "        496.6995, 496.6995, 496.6995, 496.6995, 496.6995, 496.6995,\n",
       "        496.6995, 496.6995, 496.6995, 496.6995, 496.6995, 496.6995,\n",
       "        496.6995, 496.6995, 496.6995, 496.6995, 496.6995, 496.6995,\n",
       "        496.6995, 496.6995, 496.6995, 496.6995, 496.6995, 496.6995,\n",
       "        496.6995, 496.6995, 496.6995, 496.6995, 496.6995, 496.6995,\n",
       "        496.6995, 496.6995, 496.6995, 496.6995, 496.6995, 496.6995,\n",
       "        496.6995, 496.6995, 496.6995, 496.6995, 496.6995, 496.6995,\n",
       "        496.6995, 496.6995, 496.6995, 496.6995, 496.6995, 496.6995,\n",
       "        496.6995, 496.6995, 496.6995, 496.6995, 496.6995, 496.6995,\n",
       "        496.6995, 496.6995, 496.6995, 496.6995, 496.6995, 496.6995,\n",
       "        496.6995, 496.6995, 496.6995, 496.6995, 496.6995, 496.6995,\n",
       "        496.6995, 496.6995, 496.6995, 496.6995, 496.6995, 496.6995,\n",
       "        496.6995, 496.6995, 496.6995, 496.6995, 496.6995, 496.6995,\n",
       "        496.6995, 496.6995, 496.6995, 496.6995, 496.6995, 496.6995,\n",
       "        496.6995, 496.6995, 496.6995, 496.6995, 496.6995, 496.6995,\n",
       "        496.6995, 496.6995, 496.6995, 496.6995, 496.6995, 496.6995,\n",
       "        496.6995, 496.6995, 496.6995, 496.6995, 496.6995, 496.6995,\n",
       "        496.6995, 496.6995, 496.6995, 496.6995, 496.6995, 496.6995,\n",
       "        496.6995, 496.6995, 496.6995, 496.6995, 496.6995, 496.6995,\n",
       "        496.6995, 496.6995, 496.6995, 496.6995, 496.6995, 496.6995,\n",
       "        496.6995, 496.6995]))"
      ]
     },
     "execution_count": 40,
     "metadata": {},
     "output_type": "execute_result"
    }
   ],
   "source": [
    "strategies[0], test_num_impute(strategies[0])"
   ]
  },
  {
   "cell_type": "code",
   "execution_count": 41,
   "id": "67a108e2-b541-4faa-81a1-ddb1f1bf7a4c",
   "metadata": {},
   "outputs": [
    {
     "data": {
      "text/plain": [
       "('median',\n",
       " array([496., 496., 496., 496., 496., 496., 496., 496., 496., 496., 496.,\n",
       "        496., 496., 496., 496., 496., 496., 496., 496., 496., 496., 496.,\n",
       "        496., 496., 496., 496., 496., 496., 496., 496., 496., 496., 496.,\n",
       "        496., 496., 496., 496., 496., 496., 496., 496., 496., 496., 496.,\n",
       "        496., 496., 496., 496., 496., 496., 496., 496., 496., 496., 496.,\n",
       "        496., 496., 496., 496., 496., 496., 496., 496., 496., 496., 496.,\n",
       "        496., 496., 496., 496., 496., 496., 496., 496., 496., 496., 496.,\n",
       "        496., 496., 496., 496., 496., 496., 496., 496., 496., 496., 496.,\n",
       "        496., 496., 496., 496., 496., 496., 496., 496., 496., 496., 496.,\n",
       "        496., 496., 496., 496., 496., 496., 496., 496., 496., 496., 496.,\n",
       "        496., 496., 496., 496., 496., 496., 496., 496., 496., 496., 496.,\n",
       "        496., 496., 496., 496., 496., 496., 496., 496., 496., 496., 496.,\n",
       "        496., 496., 496., 496., 496., 496., 496., 496., 496., 496., 496.,\n",
       "        496., 496., 496., 496., 496., 496., 496., 496., 496., 496., 496.,\n",
       "        496., 496., 496., 496., 496., 496., 496., 496., 496., 496., 496.,\n",
       "        496., 496., 496., 496., 496., 496., 496., 496., 496., 496., 496.,\n",
       "        496., 496., 496., 496., 496., 496., 496., 496., 496., 496., 496.,\n",
       "        496., 496., 496., 496., 496., 496., 496., 496., 496., 496., 496.,\n",
       "        496., 496.]))"
      ]
     },
     "execution_count": 41,
     "metadata": {},
     "output_type": "execute_result"
    }
   ],
   "source": [
    "strategies[1], test_num_impute(strategies[1])"
   ]
  },
  {
   "cell_type": "code",
   "execution_count": 42,
   "id": "b8c21d62-f01d-4434-aef8-04892b6ef50d",
   "metadata": {},
   "outputs": [
    {
     "data": {
      "text/plain": [
       "('most_frequent',\n",
       " array([642., 642., 642., 642., 642., 642., 642., 642., 642., 642., 642.,\n",
       "        642., 642., 642., 642., 642., 642., 642., 642., 642., 642., 642.,\n",
       "        642., 642., 642., 642., 642., 642., 642., 642., 642., 642., 642.,\n",
       "        642., 642., 642., 642., 642., 642., 642., 642., 642., 642., 642.,\n",
       "        642., 642., 642., 642., 642., 642., 642., 642., 642., 642., 642.,\n",
       "        642., 642., 642., 642., 642., 642., 642., 642., 642., 642., 642.,\n",
       "        642., 642., 642., 642., 642., 642., 642., 642., 642., 642., 642.,\n",
       "        642., 642., 642., 642., 642., 642., 642., 642., 642., 642., 642.,\n",
       "        642., 642., 642., 642., 642., 642., 642., 642., 642., 642., 642.,\n",
       "        642., 642., 642., 642., 642., 642., 642., 642., 642., 642., 642.,\n",
       "        642., 642., 642., 642., 642., 642., 642., 642., 642., 642., 642.,\n",
       "        642., 642., 642., 642., 642., 642., 642., 642., 642., 642., 642.,\n",
       "        642., 642., 642., 642., 642., 642., 642., 642., 642., 642., 642.,\n",
       "        642., 642., 642., 642., 642., 642., 642., 642., 642., 642., 642.,\n",
       "        642., 642., 642., 642., 642., 642., 642., 642., 642., 642., 642.,\n",
       "        642., 642., 642., 642., 642., 642., 642., 642., 642., 642., 642.,\n",
       "        642., 642., 642., 642., 642., 642., 642., 642., 642., 642., 642.,\n",
       "        642., 642., 642., 642., 642., 642., 642., 642., 642., 642., 642.,\n",
       "        642., 642.]))"
      ]
     },
     "execution_count": 42,
     "metadata": {},
     "output_type": "execute_result"
    }
   ],
   "source": [
    "strategies[2], test_num_impute(strategies[2])"
   ]
  },
  {
   "cell_type": "code",
   "execution_count": 43,
   "id": "9e1d7a3b-d032-4338-a1d0-58699cd3b1ec",
   "metadata": {},
   "outputs": [],
   "source": [
    "# Более сложная функция, которая позволяет задавать колонку и вид импьютации\n",
    "def test_num_impute_col(dataset, column, strategy_param):\n",
    "    temp_data = dataset[[column]]\n",
    "    \n",
    "    indicator = MissingIndicator()\n",
    "    mask_missing_values_only = indicator.fit_transform(temp_data)\n",
    "    \n",
    "    imp_num = SimpleImputer(strategy=strategy_param)\n",
    "    data_num_imp = imp_num.fit_transform(temp_data)\n",
    "    \n",
    "    filled_data = data_num_imp[mask_missing_values_only]\n",
    "    \n",
    "    return column, strategy_param, filled_data.size, filled_data[0], filled_data[filled_data.size-1]"
   ]
  },
  {
   "cell_type": "code",
   "execution_count": 44,
   "id": "fb05dc6d-4405-4e11-b88a-876c94e8b479",
   "metadata": {},
   "outputs": [
    {
     "data": {
      "text/html": [
       "<div>\n",
       "<style scoped>\n",
       "    .dataframe tbody tr th:only-of-type {\n",
       "        vertical-align: middle;\n",
       "    }\n",
       "\n",
       "    .dataframe tbody tr th {\n",
       "        vertical-align: top;\n",
       "    }\n",
       "\n",
       "    .dataframe thead th {\n",
       "        text-align: right;\n",
       "    }\n",
       "</style>\n",
       "<table border=\"1\" class=\"dataframe\">\n",
       "  <thead>\n",
       "    <tr style=\"text-align: right;\">\n",
       "      <th></th>\n",
       "      <th>broad_impact</th>\n",
       "    </tr>\n",
       "  </thead>\n",
       "  <tbody>\n",
       "    <tr>\n",
       "      <th>count</th>\n",
       "      <td>2000.000000</td>\n",
       "    </tr>\n",
       "    <tr>\n",
       "      <th>mean</th>\n",
       "      <td>496.699500</td>\n",
       "    </tr>\n",
       "    <tr>\n",
       "      <th>std</th>\n",
       "      <td>286.919755</td>\n",
       "    </tr>\n",
       "    <tr>\n",
       "      <th>min</th>\n",
       "      <td>1.000000</td>\n",
       "    </tr>\n",
       "    <tr>\n",
       "      <th>25%</th>\n",
       "      <td>250.500000</td>\n",
       "    </tr>\n",
       "    <tr>\n",
       "      <th>50%</th>\n",
       "      <td>496.000000</td>\n",
       "    </tr>\n",
       "    <tr>\n",
       "      <th>75%</th>\n",
       "      <td>741.000000</td>\n",
       "    </tr>\n",
       "    <tr>\n",
       "      <th>max</th>\n",
       "      <td>1000.000000</td>\n",
       "    </tr>\n",
       "  </tbody>\n",
       "</table>\n",
       "</div>"
      ],
      "text/plain": [
       "       broad_impact\n",
       "count   2000.000000\n",
       "mean     496.699500\n",
       "std      286.919755\n",
       "min        1.000000\n",
       "25%      250.500000\n",
       "50%      496.000000\n",
       "75%      741.000000\n",
       "max     1000.000000"
      ]
     },
     "execution_count": 44,
     "metadata": {},
     "output_type": "execute_result"
    }
   ],
   "source": [
    "data[['broad_impact']].describe()"
   ]
  },
  {
   "cell_type": "code",
   "execution_count": 47,
   "id": "7ca69b25-671a-4825-9613-2bd7c508b0c5",
   "metadata": {},
   "outputs": [
    {
     "data": {
      "text/plain": [
       "('broad_impact', 'mean', 200, 496.6995, 496.6995)"
      ]
     },
     "execution_count": 47,
     "metadata": {},
     "output_type": "execute_result"
    }
   ],
   "source": [
    "test_num_impute_col(data, 'broad_impact', strategies[0])"
   ]
  },
  {
   "cell_type": "code",
   "execution_count": 48,
   "id": "55a566d9-1b00-48b9-877a-f479040c56bd",
   "metadata": {},
   "outputs": [
    {
     "data": {
      "text/plain": [
       "('broad_impact', 'median', 200, 496.0, 496.0)"
      ]
     },
     "execution_count": 48,
     "metadata": {},
     "output_type": "execute_result"
    }
   ],
   "source": [
    "test_num_impute_col(data, 'broad_impact', strategies[1])"
   ]
  },
  {
   "cell_type": "code",
   "execution_count": 50,
   "id": "eed67af5-50b7-435c-9216-9d4a32c15ffa",
   "metadata": {},
   "outputs": [
    {
     "data": {
      "text/plain": [
       "('broad_impact', 'most_frequent', 200, 642.0, 642.0)"
      ]
     },
     "execution_count": 50,
     "metadata": {},
     "output_type": "execute_result"
    }
   ],
   "source": [
    "test_num_impute_col(data, 'broad_impact', strategies[2])"
   ]
  },
  {
   "cell_type": "markdown",
   "id": "99363ad5-bc98-4317-b98b-83eae94e6125",
   "metadata": {},
   "source": [
    "## Кодирование категориальных признаков"
   ]
  },
  {
   "cell_type": "markdown",
   "id": "7ce90bdb-22fa-47b4-9b57-e0a2dfae9998",
   "metadata": {},
   "source": [
    "Преобразуем названия стран, городов, ... в числовые зеачения (label encoding)"
   ]
  },
  {
   "cell_type": "code",
   "execution_count": 14,
   "id": "ba318d44-0ee8-444f-8a24-d2ab06400ba7",
   "metadata": {},
   "outputs": [],
   "source": [
    "from sklearn.preprocessing import LabelEncoder, OneHotEncoder"
   ]
  },
  {
   "cell_type": "markdown",
   "id": "b88c9968-e947-4e50-b14d-78c01d1c1bdb",
   "metadata": {},
   "source": [
    "======> `institution` <=========="
   ]
  },
  {
   "cell_type": "code",
   "execution_count": 15,
   "id": "150f70ff-41df-4945-a15e-4f21b904fa22",
   "metadata": {},
   "outputs": [],
   "source": [
    "le = LabelEncoder()\n",
    "institution_le = le.fit_transform(data_no_null['institution'])"
   ]
  },
  {
   "cell_type": "code",
   "execution_count": 16,
   "id": "b84f27da-40db-4e54-86de-63d265b2fb30",
   "metadata": {},
   "outputs": [
    {
     "data": {
      "text/plain": [
       "array(['Harvard University', 'Stanford University',\n",
       "       'Massachusetts Institute of Technology', ...,\n",
       "       'Babeș-Bolyai University', 'Henan Normal University',\n",
       "       'Southwest Jiaotong University'], dtype=object)"
      ]
     },
     "execution_count": 16,
     "metadata": {},
     "output_type": "execute_result"
    }
   ],
   "source": [
    "data_no_null['institution'].unique()"
   ]
  },
  {
   "cell_type": "code",
   "execution_count": 17,
   "id": "4c39901b-2c1b-4a4d-a959-efb43ceea5d6",
   "metadata": {},
   "outputs": [
    {
     "data": {
      "text/plain": [
       "array([   0,    1,    2, ..., 1020, 1021, 1022])"
      ]
     },
     "execution_count": 17,
     "metadata": {},
     "output_type": "execute_result"
    }
   ],
   "source": [
    "arr_institution_encoded = np.unique(institution_le)\n",
    "arr_institution_encoded"
   ]
  },
  {
   "cell_type": "code",
   "execution_count": 18,
   "id": "b0d91197-d649-4b16-831e-1b299bcfd36d",
   "metadata": {},
   "outputs": [
    {
     "data": {
      "text/plain": [
       "array(['AGH University of Science and Technology', 'Aalborg University',\n",
       "       'Aalto University', ..., 'École normale supérieure de Cachan',\n",
       "       'École normale supérieure de Lyon', 'Örebro University'],\n",
       "      dtype=object)"
      ]
     },
     "execution_count": 18,
     "metadata": {},
     "output_type": "execute_result"
    }
   ],
   "source": [
    "le.inverse_transform([n for n in range(1023)])"
   ]
  },
  {
   "cell_type": "markdown",
   "id": "7cc9cf08-0630-4161-8c1c-a8ae4ce54456",
   "metadata": {},
   "source": [
    "======> `country` <=========="
   ]
  },
  {
   "cell_type": "code",
   "execution_count": 19,
   "id": "018ce260-6421-48a1-ae9a-aa05971694a1",
   "metadata": {},
   "outputs": [],
   "source": [
    "le_country = LabelEncoder()\n",
    "country_le = le_country.fit_transform(data_no_null['country'])"
   ]
  },
  {
   "cell_type": "code",
   "execution_count": 20,
   "id": "2241dd70-6266-4254-987f-42937e7a2c2f",
   "metadata": {},
   "outputs": [
    {
     "data": {
      "text/plain": [
       "array(['USA', 'United Kingdom', 'Japan', 'Switzerland', 'Israel',\n",
       "       'South Korea', 'Canada', 'France', 'Russia', 'China', 'Taiwan',\n",
       "       'Sweden', 'Singapore', 'Denmark', 'Germany', 'Netherlands',\n",
       "       'Italy', 'Belgium', 'Australia', 'Finland', 'Norway',\n",
       "       'South Africa', 'Spain', 'Brazil', 'Hong Kong', 'Ireland',\n",
       "       'Austria', 'New Zealand', 'Portugal', 'Thailand', 'Czech Republic',\n",
       "       'Malaysia', 'India', 'Greece', 'Mexico', 'Hungary', 'Argentina',\n",
       "       'Turkey', 'Poland', 'Saudi Arabia', 'Chile', 'Iceland', 'Slovenia',\n",
       "       'Estonia', 'Lebanon', 'Croatia', 'Colombia', 'Slovak Republic',\n",
       "       'Iran', 'Egypt', 'Serbia', 'Bulgaria', 'Lithuania', 'Uganda',\n",
       "       'United Arab Emirates', 'Uruguay', 'Cyprus', 'Romania',\n",
       "       'Puerto Rico'], dtype=object)"
      ]
     },
     "execution_count": 20,
     "metadata": {},
     "output_type": "execute_result"
    }
   ],
   "source": [
    "data_no_null['country'].unique()"
   ]
  },
  {
   "cell_type": "code",
   "execution_count": 21,
   "id": "5cd2788b-6010-4919-a471-354c700cb98c",
   "metadata": {},
   "outputs": [
    {
     "data": {
      "text/plain": [
       "array([ 0,  1,  2,  3,  4,  5,  6,  7,  8,  9, 10, 11, 12, 13, 14, 15, 16,\n",
       "       17, 18, 19, 20, 21, 22, 23, 24, 25, 26, 27, 28, 29, 30, 31, 32, 33,\n",
       "       34, 35, 36, 37, 38, 39, 40, 41, 42, 43, 44, 45, 46, 47, 48, 49, 50,\n",
       "       51, 52, 53, 54, 55, 56, 57, 58])"
      ]
     },
     "execution_count": 21,
     "metadata": {},
     "output_type": "execute_result"
    }
   ],
   "source": [
    "np.unique(country_le)"
   ]
  },
  {
   "cell_type": "code",
   "execution_count": 22,
   "id": "3c62463e-e3c7-4d71-9031-59301e28429b",
   "metadata": {},
   "outputs": [
    {
     "data": {
      "text/plain": [
       "array(['Argentina', 'Australia', 'Austria', 'Belgium', 'Brazil',\n",
       "       'Bulgaria', 'Canada', 'Chile', 'China', 'Colombia', 'Croatia',\n",
       "       'Cyprus', 'Czech Republic', 'Denmark', 'Egypt', 'Estonia',\n",
       "       'Finland', 'France', 'Germany', 'Greece', 'Hong Kong', 'Hungary',\n",
       "       'Iceland', 'India', 'Iran', 'Ireland', 'Israel', 'Italy', 'Japan',\n",
       "       'Lebanon', 'Lithuania', 'Malaysia', 'Mexico', 'Netherlands',\n",
       "       'New Zealand', 'Norway', 'Poland', 'Portugal', 'Puerto Rico',\n",
       "       'Romania', 'Russia', 'Saudi Arabia', 'Serbia', 'Singapore',\n",
       "       'Slovak Republic', 'Slovenia', 'South Africa', 'South Korea',\n",
       "       'Spain', 'Sweden', 'Switzerland', 'Taiwan', 'Thailand', 'Turkey',\n",
       "       'USA', 'Uganda', 'United Arab Emirates', 'United Kingdom',\n",
       "       'Uruguay'], dtype=object)"
      ]
     },
     "execution_count": 22,
     "metadata": {},
     "output_type": "execute_result"
    }
   ],
   "source": [
    "le_country.inverse_transform([n for n in range(59)])"
   ]
  },
  {
   "cell_type": "code",
   "execution_count": 23,
   "id": "2a593d2e-b37d-4297-9582-11ff7f793dfe",
   "metadata": {},
   "outputs": [
    {
     "data": {
      "text/html": [
       "<div>\n",
       "<style scoped>\n",
       "    .dataframe tbody tr th:only-of-type {\n",
       "        vertical-align: middle;\n",
       "    }\n",
       "\n",
       "    .dataframe tbody tr th {\n",
       "        vertical-align: top;\n",
       "    }\n",
       "\n",
       "    .dataframe thead th {\n",
       "        text-align: right;\n",
       "    }\n",
       "</style>\n",
       "<table border=\"1\" class=\"dataframe\">\n",
       "  <thead>\n",
       "    <tr style=\"text-align: right;\">\n",
       "      <th></th>\n",
       "      <th>world_rank</th>\n",
       "      <th>institution</th>\n",
       "      <th>country</th>\n",
       "      <th>national_rank</th>\n",
       "      <th>quality_of_education</th>\n",
       "      <th>alumni_employment</th>\n",
       "      <th>quality_of_faculty</th>\n",
       "      <th>publications</th>\n",
       "      <th>influence</th>\n",
       "      <th>citations</th>\n",
       "      <th>broad_impact</th>\n",
       "      <th>patents</th>\n",
       "      <th>score</th>\n",
       "      <th>year</th>\n",
       "    </tr>\n",
       "  </thead>\n",
       "  <tbody>\n",
       "    <tr>\n",
       "      <th>200</th>\n",
       "      <td>1</td>\n",
       "      <td>Harvard University</td>\n",
       "      <td>USA</td>\n",
       "      <td>1</td>\n",
       "      <td>1</td>\n",
       "      <td>1</td>\n",
       "      <td>1</td>\n",
       "      <td>1</td>\n",
       "      <td>1</td>\n",
       "      <td>1</td>\n",
       "      <td>1.0</td>\n",
       "      <td>2</td>\n",
       "      <td>100.00</td>\n",
       "      <td>2014</td>\n",
       "    </tr>\n",
       "    <tr>\n",
       "      <th>201</th>\n",
       "      <td>2</td>\n",
       "      <td>Stanford University</td>\n",
       "      <td>USA</td>\n",
       "      <td>2</td>\n",
       "      <td>11</td>\n",
       "      <td>2</td>\n",
       "      <td>4</td>\n",
       "      <td>5</td>\n",
       "      <td>3</td>\n",
       "      <td>3</td>\n",
       "      <td>4.0</td>\n",
       "      <td>6</td>\n",
       "      <td>99.09</td>\n",
       "      <td>2014</td>\n",
       "    </tr>\n",
       "    <tr>\n",
       "      <th>202</th>\n",
       "      <td>3</td>\n",
       "      <td>Massachusetts Institute of Technology</td>\n",
       "      <td>USA</td>\n",
       "      <td>3</td>\n",
       "      <td>3</td>\n",
       "      <td>11</td>\n",
       "      <td>2</td>\n",
       "      <td>15</td>\n",
       "      <td>2</td>\n",
       "      <td>2</td>\n",
       "      <td>2.0</td>\n",
       "      <td>1</td>\n",
       "      <td>98.69</td>\n",
       "      <td>2014</td>\n",
       "    </tr>\n",
       "    <tr>\n",
       "      <th>203</th>\n",
       "      <td>4</td>\n",
       "      <td>University of Cambridge</td>\n",
       "      <td>United Kingdom</td>\n",
       "      <td>1</td>\n",
       "      <td>2</td>\n",
       "      <td>10</td>\n",
       "      <td>5</td>\n",
       "      <td>10</td>\n",
       "      <td>9</td>\n",
       "      <td>12</td>\n",
       "      <td>13.0</td>\n",
       "      <td>48</td>\n",
       "      <td>97.64</td>\n",
       "      <td>2014</td>\n",
       "    </tr>\n",
       "    <tr>\n",
       "      <th>204</th>\n",
       "      <td>5</td>\n",
       "      <td>University of Oxford</td>\n",
       "      <td>United Kingdom</td>\n",
       "      <td>2</td>\n",
       "      <td>7</td>\n",
       "      <td>12</td>\n",
       "      <td>10</td>\n",
       "      <td>11</td>\n",
       "      <td>12</td>\n",
       "      <td>11</td>\n",
       "      <td>12.0</td>\n",
       "      <td>16</td>\n",
       "      <td>97.51</td>\n",
       "      <td>2014</td>\n",
       "    </tr>\n",
       "  </tbody>\n",
       "</table>\n",
       "</div>"
      ],
      "text/plain": [
       "     world_rank                            institution         country  \\\n",
       "200           1                     Harvard University             USA   \n",
       "201           2                    Stanford University             USA   \n",
       "202           3  Massachusetts Institute of Technology             USA   \n",
       "203           4                University of Cambridge  United Kingdom   \n",
       "204           5                   University of Oxford  United Kingdom   \n",
       "\n",
       "     national_rank  quality_of_education  alumni_employment  \\\n",
       "200              1                     1                  1   \n",
       "201              2                    11                  2   \n",
       "202              3                     3                 11   \n",
       "203              1                     2                 10   \n",
       "204              2                     7                 12   \n",
       "\n",
       "     quality_of_faculty  publications  influence  citations  broad_impact  \\\n",
       "200                   1             1          1          1           1.0   \n",
       "201                   4             5          3          3           4.0   \n",
       "202                   2            15          2          2           2.0   \n",
       "203                   5            10          9         12          13.0   \n",
       "204                  10            11         12         11          12.0   \n",
       "\n",
       "     patents   score  year  \n",
       "200        2  100.00  2014  \n",
       "201        6   99.09  2014  \n",
       "202        1   98.69  2014  \n",
       "203       48   97.64  2014  \n",
       "204       16   97.51  2014  "
      ]
     },
     "execution_count": 23,
     "metadata": {},
     "output_type": "execute_result"
    }
   ],
   "source": [
    "data_no_null.head()"
   ]
  },
  {
   "cell_type": "code",
   "execution_count": 24,
   "id": "ce6204d2-1d75-4ec6-afbf-63c99a1e70fd",
   "metadata": {},
   "outputs": [
    {
     "data": {
      "text/html": [
       "<div>\n",
       "<style scoped>\n",
       "    .dataframe tbody tr th:only-of-type {\n",
       "        vertical-align: middle;\n",
       "    }\n",
       "\n",
       "    .dataframe tbody tr th {\n",
       "        vertical-align: top;\n",
       "    }\n",
       "\n",
       "    .dataframe thead th {\n",
       "        text-align: right;\n",
       "    }\n",
       "</style>\n",
       "<table border=\"1\" class=\"dataframe\">\n",
       "  <thead>\n",
       "    <tr style=\"text-align: right;\">\n",
       "      <th></th>\n",
       "      <th>world_rank</th>\n",
       "      <th>institution</th>\n",
       "      <th>country</th>\n",
       "      <th>national_rank</th>\n",
       "      <th>quality_of_education</th>\n",
       "      <th>alumni_employment</th>\n",
       "      <th>quality_of_faculty</th>\n",
       "      <th>publications</th>\n",
       "      <th>influence</th>\n",
       "      <th>citations</th>\n",
       "      <th>broad_impact</th>\n",
       "      <th>patents</th>\n",
       "      <th>score</th>\n",
       "      <th>year</th>\n",
       "    </tr>\n",
       "  </thead>\n",
       "  <tbody>\n",
       "    <tr>\n",
       "      <th>200</th>\n",
       "      <td>1</td>\n",
       "      <td>184</td>\n",
       "      <td>54</td>\n",
       "      <td>1</td>\n",
       "      <td>1</td>\n",
       "      <td>1</td>\n",
       "      <td>1</td>\n",
       "      <td>1</td>\n",
       "      <td>1</td>\n",
       "      <td>1</td>\n",
       "      <td>1.0</td>\n",
       "      <td>2</td>\n",
       "      <td>100.00</td>\n",
       "      <td>2014</td>\n",
       "    </tr>\n",
       "    <tr>\n",
       "      <th>201</th>\n",
       "      <td>2</td>\n",
       "      <td>511</td>\n",
       "      <td>54</td>\n",
       "      <td>2</td>\n",
       "      <td>11</td>\n",
       "      <td>2</td>\n",
       "      <td>4</td>\n",
       "      <td>5</td>\n",
       "      <td>3</td>\n",
       "      <td>3</td>\n",
       "      <td>4.0</td>\n",
       "      <td>6</td>\n",
       "      <td>99.09</td>\n",
       "      <td>2014</td>\n",
       "    </tr>\n",
       "    <tr>\n",
       "      <th>202</th>\n",
       "      <td>3</td>\n",
       "      <td>312</td>\n",
       "      <td>54</td>\n",
       "      <td>3</td>\n",
       "      <td>3</td>\n",
       "      <td>11</td>\n",
       "      <td>2</td>\n",
       "      <td>15</td>\n",
       "      <td>2</td>\n",
       "      <td>2</td>\n",
       "      <td>2.0</td>\n",
       "      <td>1</td>\n",
       "      <td>98.69</td>\n",
       "      <td>2014</td>\n",
       "    </tr>\n",
       "    <tr>\n",
       "      <th>203</th>\n",
       "      <td>4</td>\n",
       "      <td>637</td>\n",
       "      <td>57</td>\n",
       "      <td>1</td>\n",
       "      <td>2</td>\n",
       "      <td>10</td>\n",
       "      <td>5</td>\n",
       "      <td>10</td>\n",
       "      <td>9</td>\n",
       "      <td>12</td>\n",
       "      <td>13.0</td>\n",
       "      <td>48</td>\n",
       "      <td>97.64</td>\n",
       "      <td>2014</td>\n",
       "    </tr>\n",
       "    <tr>\n",
       "      <th>204</th>\n",
       "      <td>5</td>\n",
       "      <td>819</td>\n",
       "      <td>57</td>\n",
       "      <td>2</td>\n",
       "      <td>7</td>\n",
       "      <td>12</td>\n",
       "      <td>10</td>\n",
       "      <td>11</td>\n",
       "      <td>12</td>\n",
       "      <td>11</td>\n",
       "      <td>12.0</td>\n",
       "      <td>16</td>\n",
       "      <td>97.51</td>\n",
       "      <td>2014</td>\n",
       "    </tr>\n",
       "    <tr>\n",
       "      <th>...</th>\n",
       "      <td>...</td>\n",
       "      <td>...</td>\n",
       "      <td>...</td>\n",
       "      <td>...</td>\n",
       "      <td>...</td>\n",
       "      <td>...</td>\n",
       "      <td>...</td>\n",
       "      <td>...</td>\n",
       "      <td>...</td>\n",
       "      <td>...</td>\n",
       "      <td>...</td>\n",
       "      <td>...</td>\n",
       "      <td>...</td>\n",
       "      <td>...</td>\n",
       "    </tr>\n",
       "    <tr>\n",
       "      <th>2195</th>\n",
       "      <td>996</td>\n",
       "      <td>954</td>\n",
       "      <td>37</td>\n",
       "      <td>7</td>\n",
       "      <td>367</td>\n",
       "      <td>567</td>\n",
       "      <td>218</td>\n",
       "      <td>926</td>\n",
       "      <td>845</td>\n",
       "      <td>812</td>\n",
       "      <td>969.0</td>\n",
       "      <td>816</td>\n",
       "      <td>44.03</td>\n",
       "      <td>2015</td>\n",
       "    </tr>\n",
       "    <tr>\n",
       "      <th>2196</th>\n",
       "      <td>997</td>\n",
       "      <td>11</td>\n",
       "      <td>14</td>\n",
       "      <td>4</td>\n",
       "      <td>236</td>\n",
       "      <td>566</td>\n",
       "      <td>218</td>\n",
       "      <td>997</td>\n",
       "      <td>908</td>\n",
       "      <td>645</td>\n",
       "      <td>981.0</td>\n",
       "      <td>871</td>\n",
       "      <td>44.03</td>\n",
       "      <td>2015</td>\n",
       "    </tr>\n",
       "    <tr>\n",
       "      <th>2197</th>\n",
       "      <td>998</td>\n",
       "      <td>132</td>\n",
       "      <td>4</td>\n",
       "      <td>18</td>\n",
       "      <td>367</td>\n",
       "      <td>549</td>\n",
       "      <td>218</td>\n",
       "      <td>830</td>\n",
       "      <td>823</td>\n",
       "      <td>812</td>\n",
       "      <td>975.0</td>\n",
       "      <td>824</td>\n",
       "      <td>44.03</td>\n",
       "      <td>2015</td>\n",
       "    </tr>\n",
       "    <tr>\n",
       "      <th>2198</th>\n",
       "      <td>999</td>\n",
       "      <td>576</td>\n",
       "      <td>48</td>\n",
       "      <td>40</td>\n",
       "      <td>367</td>\n",
       "      <td>567</td>\n",
       "      <td>218</td>\n",
       "      <td>886</td>\n",
       "      <td>974</td>\n",
       "      <td>812</td>\n",
       "      <td>975.0</td>\n",
       "      <td>651</td>\n",
       "      <td>44.02</td>\n",
       "      <td>2015</td>\n",
       "    </tr>\n",
       "    <tr>\n",
       "      <th>2199</th>\n",
       "      <td>1000</td>\n",
       "      <td>74</td>\n",
       "      <td>8</td>\n",
       "      <td>83</td>\n",
       "      <td>367</td>\n",
       "      <td>567</td>\n",
       "      <td>218</td>\n",
       "      <td>861</td>\n",
       "      <td>991</td>\n",
       "      <td>812</td>\n",
       "      <td>981.0</td>\n",
       "      <td>547</td>\n",
       "      <td>44.02</td>\n",
       "      <td>2015</td>\n",
       "    </tr>\n",
       "  </tbody>\n",
       "</table>\n",
       "<p>2000 rows × 14 columns</p>\n",
       "</div>"
      ],
      "text/plain": [
       "      world_rank  institution  country  national_rank  quality_of_education  \\\n",
       "200            1          184       54              1                     1   \n",
       "201            2          511       54              2                    11   \n",
       "202            3          312       54              3                     3   \n",
       "203            4          637       57              1                     2   \n",
       "204            5          819       57              2                     7   \n",
       "...          ...          ...      ...            ...                   ...   \n",
       "2195         996          954       37              7                   367   \n",
       "2196         997           11       14              4                   236   \n",
       "2197         998          132        4             18                   367   \n",
       "2198         999          576       48             40                   367   \n",
       "2199        1000           74        8             83                   367   \n",
       "\n",
       "      alumni_employment  quality_of_faculty  publications  influence  \\\n",
       "200                   1                   1             1          1   \n",
       "201                   2                   4             5          3   \n",
       "202                  11                   2            15          2   \n",
       "203                  10                   5            10          9   \n",
       "204                  12                  10            11         12   \n",
       "...                 ...                 ...           ...        ...   \n",
       "2195                567                 218           926        845   \n",
       "2196                566                 218           997        908   \n",
       "2197                549                 218           830        823   \n",
       "2198                567                 218           886        974   \n",
       "2199                567                 218           861        991   \n",
       "\n",
       "      citations  broad_impact  patents   score  year  \n",
       "200           1           1.0        2  100.00  2014  \n",
       "201           3           4.0        6   99.09  2014  \n",
       "202           2           2.0        1   98.69  2014  \n",
       "203          12          13.0       48   97.64  2014  \n",
       "204          11          12.0       16   97.51  2014  \n",
       "...         ...           ...      ...     ...   ...  \n",
       "2195        812         969.0      816   44.03  2015  \n",
       "2196        645         981.0      871   44.03  2015  \n",
       "2197        812         975.0      824   44.03  2015  \n",
       "2198        812         975.0      651   44.02  2015  \n",
       "2199        812         981.0      547   44.02  2015  \n",
       "\n",
       "[2000 rows x 14 columns]"
      ]
     },
     "execution_count": 24,
     "metadata": {},
     "output_type": "execute_result"
    }
   ],
   "source": [
    "data_digit = data_no_null.copy()\n",
    "#data_digit.pop('institution')\n",
    "#data_digit.pop('country')\n",
    "data_digit[\"institution\"] = institution_le\n",
    "data_digit['country'] = country_le\n",
    "data_digit"
   ]
  },
  {
   "cell_type": "markdown",
   "id": "a6c22f1a-06d3-4ca7-a097-dec71e1d61ee",
   "metadata": {},
   "source": [
    "Проверяем типы данных"
   ]
  },
  {
   "cell_type": "code",
   "execution_count": 25,
   "id": "bc0b72bb-06c9-4574-9af4-dc518b4df0cf",
   "metadata": {},
   "outputs": [
    {
     "data": {
      "text/plain": [
       "world_rank                int64\n",
       "institution               int64\n",
       "country                   int64\n",
       "national_rank             int64\n",
       "quality_of_education      int64\n",
       "alumni_employment         int64\n",
       "quality_of_faculty        int64\n",
       "publications              int64\n",
       "influence                 int64\n",
       "citations                 int64\n",
       "broad_impact            float64\n",
       "patents                   int64\n",
       "score                   float64\n",
       "year                      int64\n",
       "dtype: object"
      ]
     },
     "execution_count": 25,
     "metadata": {},
     "output_type": "execute_result"
    }
   ],
   "source": [
    "data_digit.dtypes"
   ]
  },
  {
   "cell_type": "markdown",
   "id": "87957a96-2370-4c06-91b0-2e60473ae8ed",
   "metadata": {},
   "source": [
    "## Масштабирование данных"
   ]
  },
  {
   "cell_type": "markdown",
   "id": "a49ee7a1-b628-4ff5-ae29-394958bf8c26",
   "metadata": {},
   "source": [
    "Масштабирование пудем проводить на `data_digit` (где нет категориальных признаков)"
   ]
  },
  {
   "cell_type": "code",
   "execution_count": 26,
   "id": "35e4d259-000b-49b1-9953-3e129f4c2d8f",
   "metadata": {},
   "outputs": [],
   "source": [
    "from sklearn.preprocessing import MinMaxScaler, StandardScaler, Normalizer"
   ]
  },
  {
   "cell_type": "markdown",
   "id": "62ee7c6d-3c98-4c0d-8da8-e75e0f522e95",
   "metadata": {},
   "source": [
    "### MinMax масштабирование"
   ]
  },
  {
   "cell_type": "markdown",
   "id": "76161383-85c4-4132-9909-949bffe0d72a",
   "metadata": {},
   "source": [
    "=====> `world_rank` <====="
   ]
  },
  {
   "cell_type": "code",
   "execution_count": 27,
   "id": "b22142b0-b566-4995-84eb-08ae32f6e9a3",
   "metadata": {},
   "outputs": [],
   "source": [
    "sc1 = MinMaxScaler()\n",
    "sc1_data = sc1.fit_transform(data_digit[['broad_impact']])"
   ]
  },
  {
   "cell_type": "code",
   "execution_count": 28,
   "id": "76716f50-f951-4b91-a159-3b8275917f66",
   "metadata": {},
   "outputs": [
    {
     "data": {
      "image/png": "[encoded data removed]",
      "text/plain": [
       "<Figure size 432x288 with 1 Axes>"
      ]
     },
     "metadata": {
      "image/png": {
       "height": 251,
       "width": 372
      }
     },
     "output_type": "display_data"
    }
   ],
   "source": [
    "plt.hist(data_digit['broad_impact'], 50)\n",
    "plt.show()"
   ]
  },
  {
   "cell_type": "code",
   "execution_count": 29,
   "id": "600e572a-b29e-44d4-a84d-b30963060c81",
   "metadata": {},
   "outputs": [
    {
     "data": {
      "image/png": "[encoded data removed]",
      "text/plain": [
       "<Figure size 432x288 with 1 Axes>"
      ]
     },
     "metadata": {
      "image/png": {
       "height": 251,
       "width": 372
      }
     },
     "output_type": "display_data"
    }
   ],
   "source": [
    "plt.hist(sc1_data, 50)\n",
    "plt.show()"
   ]
  },
  {
   "cell_type": "code",
   "execution_count": null,
   "id": "944750df-23c6-45e3-bafd-099d18143bd1",
   "metadata": {},
   "outputs": [],
   "source": []
  },
  {
   "cell_type": "markdown",
   "id": "3202ae37-92e8-4b5c-b3ff-ecdd82ae6b3b",
   "metadata": {},
   "source": [
    "### Масштабирование данных на основе Z-оценки - StandardScaler"
   ]
  },
  {
   "cell_type": "code",
   "execution_count": 30,
   "id": "4ec337f7-f5fb-474b-8d89-39aeeee38b99",
   "metadata": {},
   "outputs": [],
   "source": [
    "sc2 = StandardScaler()\n",
    "sc2_data = sc2.fit_transform(data_digit[['broad_impact']])"
   ]
  },
  {
   "cell_type": "code",
   "execution_count": 31,
   "id": "08740e4e-0da0-460c-9810-921e1ef656f0",
   "metadata": {},
   "outputs": [
    {
     "data": {
      "image/png": "[encoded data removed]",
      "text/plain": [
       "<Figure size 432x288 with 1 Axes>"
      ]
     },
     "metadata": {
      "image/png": {
       "height": 251,
       "width": 372
      }
     },
     "output_type": "display_data"
    }
   ],
   "source": [
    "plt.hist(sc2_data, 50)\n",
    "plt.show()"
   ]
  },
  {
   "cell_type": "code",
   "execution_count": null,
   "id": "3997a885-9456-4042-9c01-749dd71ee27d",
   "metadata": {},
   "outputs": [],
   "source": []
  }
 ],
 "metadata": {
  "kernelspec": {
   "display_name": "Python 3 (ipykernel)",
   "language": "python",
   "name": "python3"
  },
  "language_info": {
   "codemirror_mode": {
    "name": "ipython",
    "version": 3
   },
   "file_extension": ".py",
   "mimetype": "text/x-python",
   "name": "python",
   "nbconvert_exporter": "python",
   "pygments_lexer": "ipython3",
   "version": "3.10.2"
  }
 },
 "nbformat": 4,
 "nbformat_minor": 5
}
